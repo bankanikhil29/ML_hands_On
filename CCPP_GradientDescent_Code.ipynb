{
 "cells": [
  {
   "cell_type": "code",
   "execution_count": 10,
   "metadata": {},
   "outputs": [],
   "source": [
    "import numpy as np\n",
    "import pandas as pd\n",
    "data = np.loadtxt(r\"C:\\Users\\Nikhil\\Desktop\\CN csv files\\CCPP_x_y_trainingPoints.csv\",delimiter = ',')\n",
    "test_data = np.loadtxt(r\"C:\\Users\\Nikhil\\Desktop\\CN csv files\\CCPP_x_testPoints.csv\",delimiter = ',')\n",
    "\n",
    "Tr_rows = data.shape[0]\n",
    "Tr_cols = data.shape[1]\n",
    "x = data[:,0:Tr_cols-1]\n",
    "y = data[:,Tr_cols-1]\n",
    "a = np.ones(Tr_rows)\n",
    "x = np.append(x,a.reshape(-1,1),axis=1)\n",
    "\n",
    "x_test = test_data[:,0:test_data.shape[1]]\n",
    "b=np.ones(test_data.shape[0])\n",
    "x_test =np.append(x_test,b.reshape(-1,1),axis=1)"
   ]
  },
  {
   "cell_type": "code",
   "execution_count": 11,
   "metadata": {},
   "outputs": [],
   "source": [
    "def step_grad(x,y,m,learning_rate):\n",
    "    m_slope = np.zeros(Tr_cols)\n",
    "    for i in range(Tr_cols):\n",
    "        for j in range(Tr_rows):\n",
    "            m_slope[i] += 2* ((x[j]*m).sum() - y[j]) * x[j][i] / Tr_rows\n",
    "    m += -learning_rate*m_slope\n",
    "    return m"
   ]
  },
  {
   "cell_type": "code",
   "execution_count": 12,
   "metadata": {},
   "outputs": [],
   "source": [
    "def cost(y_p,y_ts):\n",
    "    return ((y_p-y_ts)**2).mean()\n",
    "def predict(a_y,x_ts):\n",
    "    return np.dot(x_ts,a_y)\n",
    "def score(Y, Y_pred):\n",
    "    u = ((Y - Y_pred) ** 2).sum()\n",
    "    v = ((Y - Y.mean()) ** 2).sum()\n",
    "    return 1 - (u / v)"
   ]
  },
  {
   "cell_type": "code",
   "execution_count": 13,
   "metadata": {},
   "outputs": [],
   "source": [
    "class color:\n",
    "   PURPLE = '\\033[95m'\n",
    "   CYAN = '\\033[96m'\n",
    "   DARKCYAN = '\\033[36m'\n",
    "   BLUE = '\\033[94m'\n",
    "   GREEN = '\\033[92m'\n",
    "   YELLOW = '\\033[93m'\n",
    "   RED = '\\033[91m'\n",
    "   BOLD = '\\033[1m'\n",
    "   UNDERLINE = '\\033[4m'\n",
    "   END = '\\033[0m'"
   ]
  },
  {
   "cell_type": "code",
   "execution_count": 19,
   "metadata": {},
   "outputs": [],
   "source": [
    "def gd(x,y):\n",
    "    learning_rate = 0.0000009\n",
    "    iterations = 10000000\n",
    "    m = np.array([-1.3930531671902633 ,-0.4052965751909595    ,0.5011869317218689 ,-0.05519153630085919 ,0.001203216708143435         ])\n",
    "    #m=c\n",
    "    for i in range(iterations):\n",
    "        check = score(y,predict(m,x))\n",
    "        m = step_grad(x,y,m,learning_rate)\n",
    "        if (check<=score(y,predict(m,x))):\n",
    "            print(i+1,color.BOLD +\" score: \"+ color.END, score(y,predict(m,x)),m[0],m[1],m[2],m[3],m[4] , (score(y,predict(m,x))-check)*10000000)\n",
    "        else:\n",
    "            return m\n",
    "    return m"
   ]
  },
  {
   "cell_type": "code",
   "execution_count": 20,
   "metadata": {},
   "outputs": [],
   "source": [
    "m = gd(x,y)\n",
    "y_pred = predict(m,x_test)"
   ]
  },
  {
   "cell_type": "code",
   "execution_count": 108,
   "metadata": {},
   "outputs": [],
   "source": [
    "np.savetxt(\"ccpp_submission.csv\",y_pred.reshape(-1,1),fmt = '%0.16f')"
   ]
  }
 ],
 "metadata": {
  "kernelspec": {
   "display_name": "Python 3",
   "language": "python",
   "name": "python3"
  }
 },
 "nbformat": 4,
 "nbformat_minor": 2
}
